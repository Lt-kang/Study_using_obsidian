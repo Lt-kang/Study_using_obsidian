{
 "cells": [
  {
   "cell_type": "code",
   "execution_count": 8,
   "metadata": {},
   "outputs": [],
   "source": [
    "from tokenizers import Tokenizer\n",
    "from tokenizers.models import BPE\n",
    "from tokenizers.trainers import BpeTrainer\n",
    "from tokenizers.pre_tokenizers import Whitespace\n",
    "\n",
    "# 1. BPE 모델 정의\n",
    "tokenizer = Tokenizer(BPE())\n",
    "\n",
    "# 2. Pre-tokenizer 설정 (단어 단위로 먼저 자름)\n",
    "tokenizer.pre_tokenizer = Whitespace()\n",
    "\n",
    "# 3. 학습 데이터 준비\n",
    "files = [\"your_text_corpus.txt\"]  # txt 파일 경로\n",
    "\n",
    "# 4. Trainer 설정\n",
    "trainer = BpeTrainer(vocab_size=3000, special_tokens=[\"[PAD]\", \"[UNK]\", \"[CLS]\", \"[SEP]\", \"[MASK]\"])\n",
    "\n",
    "# 5. 학습 실행\n",
    "tokenizer.train(files, trainer)\n",
    "\n",
    "# 6. 저장\n",
    "tokenizer.save(\"bpe_tokenizer.json\")\n"
   ]
  },
  {
   "cell_type": "code",
   "execution_count": 10,
   "metadata": {},
   "outputs": [
    {
     "name": "stdout",
     "output_type": "stream",
     "text": [
      "['이', '문서에서는', '제안', '활', '성', '화를', '위한', '3', 'S', '의', '이해', '와', '실천', '을', '주제로', '설명', '하', '과', '있습니다', '.']\n"
     ]
    }
   ],
   "source": [
    "tokenizer = Tokenizer.from_file(\"bpe_tokenizer.json\")\n",
    "output = tokenizer.encode(\"이 문서에서는 제안 활성화를 위한 3S의 이해와 실천을 주제로 설명하과 있습니다.\")\n",
    "print(output.tokens)\n"
   ]
  },
  {
   "cell_type": "code",
   "execution_count": null,
   "metadata": {},
   "outputs": [],
   "source": []
  },
  {
   "cell_type": "code",
   "execution_count": 15,
   "metadata": {},
   "outputs": [],
   "source": [
    "from tokenizers import Tokenizer\n",
    "from tokenizers.models import WordPiece\n",
    "from tokenizers.trainers import WordPieceTrainer\n",
    "from tokenizers.pre_tokenizers import Whitespace\n",
    "\n",
    "# 1. WordPiece 모델 정의\n",
    "tokenizer = Tokenizer(WordPiece())\n",
    "\n",
    "# 2. Pre-tokenizer 설정 (단어 단위로 먼저 자름)\n",
    "tokenizer.pre_tokenizer = Whitespace()\n",
    "\n",
    "# 3. 학습 데이터 준비\n",
    "files = [\"your_text_corpus.txt\"]  # txt 파일 경로\n",
    "\n",
    "# 4. Trainer 설정\n",
    "trainer = WordPieceTrainer(vocab_size=9000, special_tokens=[\"[PAD]\", \"[UNK]\", \"[CLS]\", \"[SEP]\", \"[MASK]\"])\n",
    "\n",
    "# 5. 학습 실행\n",
    "tokenizer.train(files, trainer)\n",
    "\n",
    "# 6. 저장\n",
    "tokenizer.save(\"wordpiece_tokenizer.json\")\n"
   ]
  },
  {
   "cell_type": "code",
   "execution_count": 16,
   "metadata": {},
   "outputs": [
    {
     "name": "stdout",
     "output_type": "stream",
     "text": [
      "['이', '문서에서는', '제안', '활성화', '##를', '위한', '3S', '##의', '이해', '##와', '실천', '##을', '주제로', '설명', '##하', '##과', '있습니다', '.']\n"
     ]
    }
   ],
   "source": [
    "tokenizer = Tokenizer.from_file(\"wordpiece_tokenizer.json\")\n",
    "output = tokenizer.encode(\"이 문서에서는 제안 활성화를 위한 3S의 이해와 실천을 주제로 설명하과 있습니다.\")\n",
    "print(output.tokens)\n"
   ]
  },
  {
   "cell_type": "code",
   "execution_count": 17,
   "metadata": {},
   "outputs": [
    {
     "name": "stdout",
     "output_type": "stream",
     "text": [
      "토큰 수: 18\n",
      "임베딩 형태: torch.Size([1, 18, 128])\n"
     ]
    }
   ],
   "source": [
    "import torch\n",
    "import torch.nn as nn\n",
    "from tokenizers import Tokenizer\n",
    "\n",
    "# 저장된 토크나이저 불러오기\n",
    "tokenizer = Tokenizer.from_file(\"wordpiece_tokenizer.json\")\n",
    "\n",
    "# 샘플 문장 토큰화\n",
    "text = \"이 문서에서는 제안 활성화를 위한 3S의 이해와 실천을 주제로 설명하과 있습니다.\"\n",
    "encoded = tokenizer.encode(text)\n",
    "\n",
    "# 토큰을 인덱스로 변환\n",
    "token_ids = encoded.ids\n",
    "\n",
    "# 임베딩 레이어 정의 (vocab_size: 어휘 크기, embedding_dim: 임베딩 차원)\n",
    "vocab_size = tokenizer.get_vocab_size()\n",
    "embedding_dim = 128\n",
    "embedding_layer = nn.Embedding(vocab_size, embedding_dim)\n",
    "\n",
    "# 인덱스를 텐서로 변환하고 임베딩 레이어 통과\n",
    "tokens_tensor = torch.tensor([token_ids])\n",
    "embeddings = embedding_layer(tokens_tensor)\n",
    "\n",
    "print(f\"토큰 수: {len(token_ids)}\")\n",
    "print(f\"임베딩 형태: {embeddings.shape}\")  # [1, 토큰 수, 임베딩 차원]"
   ]
  },
  {
   "cell_type": "code",
   "execution_count": 18,
   "metadata": {},
   "outputs": [
    {
     "data": {
      "text/plain": [
       "tensor([[[ 0.0210, -1.9520, -0.2106,  ...,  0.5034,  0.2012,  1.4866],\n",
       "         [ 0.9422,  0.5770, -1.0747,  ...,  0.0326,  0.9310, -1.1802],\n",
       "         [ 0.0521,  0.6893,  2.2893,  ..., -0.0441, -0.0164, -0.7180],\n",
       "         ...,\n",
       "         [-1.1106, -0.8434,  0.6765,  ...,  0.5730, -0.9798,  0.6739],\n",
       "         [ 0.4097, -0.0294,  0.6022,  ..., -0.2367,  1.1240,  1.6501],\n",
       "         [ 0.3982, -0.1335,  0.5234,  ...,  0.0027,  1.1135, -0.0317]]],\n",
       "       grad_fn=<EmbeddingBackward0>)"
      ]
     },
     "execution_count": 18,
     "metadata": {},
     "output_type": "execute_result"
    }
   ],
   "source": [
    "embeddings"
   ]
  },
  {
   "cell_type": "code",
   "execution_count": 19,
   "metadata": {},
   "outputs": [
    {
     "data": {
      "text/plain": [
       "Embedding(9000, 128)"
      ]
     },
     "execution_count": 19,
     "metadata": {},
     "output_type": "execute_result"
    }
   ],
   "source": [
    "embedding_layer"
   ]
  },
  {
   "cell_type": "code",
   "execution_count": null,
   "metadata": {},
   "outputs": [],
   "source": []
  }
 ],
 "metadata": {
  "kernelspec": {
   "display_name": "Python 3",
   "language": "python",
   "name": "python3"
  },
  "language_info": {
   "codemirror_mode": {
    "name": "ipython",
    "version": 3
   },
   "file_extension": ".py",
   "mimetype": "text/x-python",
   "name": "python",
   "nbconvert_exporter": "python",
   "pygments_lexer": "ipython3",
   "version": "3.10.0rc2"
  }
 },
 "nbformat": 4,
 "nbformat_minor": 2
}
