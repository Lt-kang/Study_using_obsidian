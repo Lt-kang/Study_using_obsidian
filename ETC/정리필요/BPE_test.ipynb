{
 "cells": [
  {
   "cell_type": "code",
   "execution_count": 7,
   "metadata": {},
   "outputs": [],
   "source": [
    "from collections import defaultdict, Counter\n",
    "\n",
    "# 초기 단어 리스트 (각 단어 끝에 </w> 추가 → 단어 경계 표시용)\n",
    "corpus = ['low', 'lowest', 'newer', 'wider']\n",
    "vocab = {}"
   ]
  },
  {
   "cell_type": "code",
   "execution_count": 8,
   "metadata": {},
   "outputs": [],
   "source": [
    "# 각 단어를 문자 단위로 나누고, 마지막에 </w> 붙임\n",
    "for word in corpus:\n",
    "    tokens = \" \".join(list(word)) + \" </w>\"\n",
    "    vocab[tokens] = vocab.get(tokens, 0) + 1"
   ]
  },
  {
   "cell_type": "code",
   "execution_count": 9,
   "metadata": {},
   "outputs": [
    {
     "data": {
      "text/plain": [
       "{'l o w </w>': 1,\n",
       " 'l o w e s t </w>': 1,\n",
       " 'n e w e r </w>': 1,\n",
       " 'w i d e r </w>': 1}"
      ]
     },
     "execution_count": 9,
     "metadata": {},
     "output_type": "execute_result"
    }
   ],
   "source": [
    "vocab"
   ]
  },
  {
   "cell_type": "code",
   "execution_count": 4,
   "metadata": {},
   "outputs": [],
   "source": [
    "\n",
    "def get_stats(vocab):\n",
    "    \"\"\" 문자쌍(바이그램) 빈도 계산 \"\"\"\n",
    "    pairs = defaultdict(int)\n",
    "    for word, freq in vocab.items():\n",
    "        symbols = word.split()\n",
    "        for i in range(len(symbols) - 1):\n",
    "            pairs[(symbols[i], symbols[i+1])] += freq\n",
    "    return pairs\n",
    "\n",
    "def merge_vocab(pair, vocab):\n",
    "    \"\"\" 가장 자주 등장한 쌍을 병합 \"\"\"\n",
    "    new_vocab = {}\n",
    "    bigram = ' '.join(pair)\n",
    "    replacement = ''.join(pair)\n",
    "    for word in vocab:\n",
    "        # 병합 대상 쌍만 공백 없이 치환\n",
    "        new_word = word.replace(bigram, replacement)\n",
    "        new_vocab[new_word] = vocab[word]\n",
    "    return new_vocab\n"
   ]
  },
  {
   "cell_type": "code",
   "execution_count": 10,
   "metadata": {},
   "outputs": [
    {
     "data": {
      "text/plain": [
       "defaultdict(int,\n",
       "            {('l', 'o'): 2,\n",
       "             ('o', 'w'): 2,\n",
       "             ('w', '</w>'): 1,\n",
       "             ('w', 'e'): 2,\n",
       "             ('e', 's'): 1,\n",
       "             ('s', 't'): 1,\n",
       "             ('t', '</w>'): 1,\n",
       "             ('n', 'e'): 1,\n",
       "             ('e', 'w'): 1,\n",
       "             ('e', 'r'): 2,\n",
       "             ('r', '</w>'): 2,\n",
       "             ('w', 'i'): 1,\n",
       "             ('i', 'd'): 1,\n",
       "             ('d', 'e'): 1})"
      ]
     },
     "execution_count": 10,
     "metadata": {},
     "output_type": "execute_result"
    }
   ],
   "source": [
    "get_stats(vocab)"
   ]
  },
  {
   "cell_type": "code",
   "execution_count": 5,
   "metadata": {},
   "outputs": [
    {
     "name": "stdout",
     "output_type": "stream",
     "text": [
      "\n",
      "Step 1:\n",
      "Most frequent pair: ('l', 'o')\n",
      "Updated vocab:\n",
      "  lo w </w> → 1\n",
      "  lo w e s t </w> → 1\n",
      "  n e w e r </w> → 1\n",
      "  w i d e r </w> → 1\n",
      "\n",
      "Step 2:\n",
      "Most frequent pair: ('lo', 'w')\n",
      "Updated vocab:\n",
      "  low </w> → 1\n",
      "  low e s t </w> → 1\n",
      "  n e w e r </w> → 1\n",
      "  w i d e r </w> → 1\n",
      "\n",
      "Step 3:\n",
      "Most frequent pair: ('e', 'r')\n",
      "Updated vocab:\n",
      "  low </w> → 1\n",
      "  low e s t </w> → 1\n",
      "  n e w er </w> → 1\n",
      "  w i d er </w> → 1\n",
      "\n",
      "Step 4:\n",
      "Most frequent pair: ('er', '</w>')\n",
      "Updated vocab:\n",
      "  low </w> → 1\n",
      "  low e s t </w> → 1\n",
      "  n e w er</w> → 1\n",
      "  w i d er</w> → 1\n",
      "\n",
      "Step 5:\n",
      "Most frequent pair: ('low', '</w>')\n",
      "Updated vocab:\n",
      "  low</w> → 1\n",
      "  low e s t </w> → 1\n",
      "  n e w er</w> → 1\n",
      "  w i d er</w> → 1\n",
      "\n",
      "Step 6:\n",
      "Most frequent pair: ('low', 'e')\n",
      "Updated vocab:\n",
      "  low</w> → 1\n",
      "  lowe s t </w> → 1\n",
      "  n e w er</w> → 1\n",
      "  w i d er</w> → 1\n",
      "\n",
      "Step 7:\n",
      "Most frequent pair: ('lowe', 's')\n",
      "Updated vocab:\n",
      "  low</w> → 1\n",
      "  lowes t </w> → 1\n",
      "  n e w er</w> → 1\n",
      "  w i d er</w> → 1\n",
      "\n",
      "Step 8:\n",
      "Most frequent pair: ('lowes', 't')\n",
      "Updated vocab:\n",
      "  low</w> → 1\n",
      "  lowest </w> → 1\n",
      "  n e w er</w> → 1\n",
      "  w i d er</w> → 1\n",
      "\n",
      "Step 9:\n",
      "Most frequent pair: ('lowest', '</w>')\n",
      "Updated vocab:\n",
      "  low</w> → 1\n",
      "  lowest</w> → 1\n",
      "  n e w er</w> → 1\n",
      "  w i d er</w> → 1\n",
      "\n",
      "Step 10:\n",
      "Most frequent pair: ('n', 'e')\n",
      "Updated vocab:\n",
      "  low</w> → 1\n",
      "  lowest</w> → 1\n",
      "  ne w er</w> → 1\n",
      "  w i d er</w> → 1\n"
     ]
    }
   ],
   "source": [
    "\n",
    "# 학습 과정 실행\n",
    "num_merges = 10  # 병합 횟수 제한\n",
    "for i in range(num_merges):\n",
    "    print(f\"\\nStep {i+1}:\")\n",
    "    pairs = get_stats(vocab)\n",
    "    if not pairs:\n",
    "        break\n",
    "    best_pair = max(pairs, key=pairs.get)\n",
    "    print(f\"Most frequent pair: {best_pair}\")\n",
    "    vocab = merge_vocab(best_pair, vocab)\n",
    "    print(\"Updated vocab:\")\n",
    "    for word in vocab:\n",
    "        print(f\"  {word} → {vocab[word]}\")\n"
   ]
  },
  {
   "cell_type": "code",
   "execution_count": null,
   "metadata": {},
   "outputs": [],
   "source": []
  }
 ],
 "metadata": {
  "kernelspec": {
   "display_name": "Python 3",
   "language": "python",
   "name": "python3"
  },
  "language_info": {
   "codemirror_mode": {
    "name": "ipython",
    "version": 3
   },
   "file_extension": ".py",
   "mimetype": "text/x-python",
   "name": "python",
   "nbconvert_exporter": "python",
   "pygments_lexer": "ipython3",
   "version": "3.10.0"
  }
 },
 "nbformat": 4,
 "nbformat_minor": 2
}
